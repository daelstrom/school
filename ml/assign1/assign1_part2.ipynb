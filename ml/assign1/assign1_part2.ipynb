{
 "cells": [
  {
   "cell_type": "markdown",
   "metadata": {},
   "source": [
    "# CST 407 ML - Assignment 1 - part 2\n",
    "\n",
    "_Code drawn from Chapter 1 – The Machine Learning landscape_\n"
   ]
  },
  {
   "cell_type": "code",
   "execution_count": 1,
   "metadata": {
    "slideshow": {
     "slide_type": "-"
    }
   },
   "outputs": [],
   "source": [
    "# Python ≥3.5 is required\n",
    "import sys\n",
    "assert sys.version_info >= (3, 5)"
   ]
  },
  {
   "cell_type": "code",
   "execution_count": 2,
   "metadata": {},
   "outputs": [],
   "source": [
    "# Scikit-Learn ≥0.20 is required\n",
    "import sklearn\n",
    "assert sklearn.__version__ >= \"0.20\""
   ]
  },
  {
   "cell_type": "code",
   "execution_count": 3,
   "metadata": {},
   "outputs": [],
   "source": [
    "def prepare_country_stats(oecd_bli, gdp_per_capita):\n",
    "    oecd_bli = oecd_bli[oecd_bli[\"INEQUALITY\"]==\"TOT\"]\n",
    "    oecd_bli = oecd_bli.pivot(index=\"Country\", columns=\"Indicator\", values=\"Value\")\n",
    "    gdp_per_capita.rename(columns={\"2015\": \"GDP per capita\"}, inplace=True)\n",
    "    gdp_per_capita.set_index(\"Country\", inplace=True)\n",
    "    full_country_stats = pd.merge(left=oecd_bli, right=gdp_per_capita,\n",
    "                                  left_index=True, right_index=True)\n",
    "    full_country_stats.sort_values(by=\"GDP per capita\", inplace=True)\n",
    "    remove_indices = [0, 1, 6, 8, 33, 34, 35]\n",
    "    keep_indices = list(set(range(36)) - set(remove_indices))\n",
    "\n",
    "    return full_country_stats[[\"GDP per capita\", 'Life satisfaction']].iloc[keep_indices]"
   ]
  },
  {
   "cell_type": "code",
   "execution_count": 4,
   "metadata": {},
   "outputs": [],
   "source": [
    "import os\n",
    "datapath = os.path.join(\"datasets\", \"lifesat\", \"\")"
   ]
  },
  {
   "cell_type": "code",
   "execution_count": 5,
   "metadata": {},
   "outputs": [],
   "source": [
    "# To plot pretty figures directly within Jupyter\n",
    "%matplotlib inline\n",
    "import matplotlib as mpl\n",
    "mpl.rc('axes', labelsize=14)\n",
    "mpl.rc('xtick', labelsize=12)\n",
    "mpl.rc('ytick', labelsize=12)"
   ]
  },
  {
   "cell_type": "code",
   "execution_count": 6,
   "metadata": {},
   "outputs": [
    {
     "name": "stdout",
     "output_type": "stream",
     "text": [
      "Downloading oecd_bli_2015.csv\n",
      "Downloading gdp_per_capita.csv\n"
     ]
    }
   ],
   "source": [
    "# Download the data\n",
    "import urllib.request\n",
    "DOWNLOAD_ROOT = \"https://raw.githubusercontent.com/ageron/handson-ml2/master/\"\n",
    "os.makedirs(datapath, exist_ok=True)\n",
    "for filename in (\"oecd_bli_2015.csv\", \"gdp_per_capita.csv\"):\n",
    "    print(\"Downloading\", filename)\n",
    "    url = DOWNLOAD_ROOT + \"datasets/lifesat/\" + filename\n",
    "    urllib.request.urlretrieve(url, datapath + filename)"
   ]
  },
  {
   "cell_type": "code",
   "execution_count": 7,
   "metadata": {
    "scrolled": true
   },
   "outputs": [
    {
     "data": {
      "image/png": "[encoded data removed]",
      "text/plain": [
       "<Figure size 432x288 with 1 Axes>"
      ]
     },
     "metadata": {
      "needs_background": "light"
     },
     "output_type": "display_data"
    },
    {
     "name": "stdout",
     "output_type": "stream",
     "text": [
      "[[5.96242338]]\n"
     ]
    }
   ],
   "source": [
    "# Code example\n",
    "import matplotlib.pyplot as plt\n",
    "import numpy as np\n",
    "import pandas as pd\n",
    "import sklearn.linear_model\n",
    "\n",
    "# Load the data\n",
    "oecd_bli = pd.read_csv(datapath + \"oecd_bli_2015.csv\", thousands=',')\n",
    "gdp_per_capita = pd.read_csv(datapath + \"gdp_per_capita.csv\",thousands=',',delimiter='\\t',\n",
    "                             encoding='latin1', na_values=\"n/a\")\n",
    "\n",
    "# Prepare the data\n",
    "country_stats = prepare_country_stats(oecd_bli, gdp_per_capita)\n",
    "X = np.c_[country_stats[\"GDP per capita\"]]\n",
    "y = np.c_[country_stats[\"Life satisfaction\"]]\n",
    "\n",
    "# Visualize the data\n",
    "country_stats.plot(kind='scatter', x=\"GDP per capita\", y='Life satisfaction')\n",
    "plt.show()\n",
    "\n",
    "# Select a linear model\n",
    "model = sklearn.linear_model.LinearRegression()\n",
    "\n",
    "# Train the model\n",
    "model.fit(X, y)\n",
    "\n",
    "# Make a prediction for Cyprus\n",
    "X_new = [[22587]]  # Cyprus' GDP per capita\n",
    "print(model.predict(X_new)) # outputs [[ 5.96242338]]"
   ]
  },
  {
   "cell_type": "markdown",
   "metadata": {},
   "source": [
    "# Your turn...\n",
    "\n",
    "Goal:  Predict life satisfaction based on country attributes (beyond GDP)\n",
    "\n",
    "Note:  Do not modify the code above for this part.  Instead add code below that adds/modifies results.\n",
    "\n",
    "Problem 1 Instructions:\n",
    "1. Visit kaggle.com and explore data sets available for  by country\n",
    "2. Find and import a data set giving population density per country\n",
    "3. Evaluate the correlation between population density and life satisfaction\n",
    "4. Train a model to predict life satisfaction, based on population density \n",
    "5. Measure and compare the accuracy of predictions based on population density to those based on GDP\n",
    "6. Predict the life satisfaction for Cyprus, based on population density\n",
    "7. How is this result different from the result obtained based on GDP?\n",
    "\n",
    "Problem 2 Instructions:\n",
    "1. Train a model to predict life satisfaction, based on both GDP and population density \n",
    "2. Measure and compare the accuracy of predictions based on both attributes to those obtained soley based on GDP or population density\n",
    "3. Predict the life satisfaction for Cyprus, based on both GDP and population density\n",
    "4. How is this result different from the result obtained soley based on GDP or population density?\n",
    "\n",
    "Extra Credit:\n",
    "1. Seek additional country attributes and attempt to achieve a higher accuracy in predicting life satisfaction\n",
    "2. Explain your approach, results and conclusions"
   ]
  },
  {
   "cell_type": "markdown",
   "metadata": {},
   "source": [
    "**Problem 1**  "
   ]
  },
  {
   "cell_type": "code",
   "execution_count": 11,
   "metadata": {},
   "outputs": [
    {
     "data": {
      "text/html": [
       "<div>\n",
       "<style scoped>\n",
       "    .dataframe tbody tr th:only-of-type {\n",
       "        vertical-align: middle;\n",
       "    }\n",
       "\n",
       "    .dataframe tbody tr th {\n",
       "        vertical-align: top;\n",
       "    }\n",
       "\n",
       "    .dataframe thead th {\n",
       "        text-align: right;\n",
       "    }\n",
       "</style>\n",
       "<table border=\"1\" class=\"dataframe\">\n",
       "  <thead>\n",
       "    <tr style=\"text-align: right;\">\n",
       "      <th></th>\n",
       "      <th>GDP per capita</th>\n",
       "      <th>Life satisfaction</th>\n",
       "      <th>cca2</th>\n",
       "      <th>pop2021</th>\n",
       "      <th>pop2020</th>\n",
       "      <th>pop2050</th>\n",
       "      <th>pop2030</th>\n",
       "      <th>pop2019</th>\n",
       "      <th>pop2015</th>\n",
       "      <th>pop2010</th>\n",
       "      <th>pop2000</th>\n",
       "      <th>pop1990</th>\n",
       "      <th>pop1980</th>\n",
       "      <th>pop1970</th>\n",
       "      <th>area</th>\n",
       "      <th>Density</th>\n",
       "      <th>GrowthRate</th>\n",
       "      <th>WorldPercentage</th>\n",
       "      <th>rank</th>\n",
       "    </tr>\n",
       "  </thead>\n",
       "  <tbody>\n",
       "    <tr>\n",
       "      <th>Russia</th>\n",
       "      <td>9054.914</td>\n",
       "      <td>6.0</td>\n",
       "      <td>RU</td>\n",
       "      <td>145912.025</td>\n",
       "      <td>145934.462</td>\n",
       "      <td>135824.481</td>\n",
       "      <td>143347.515</td>\n",
       "      <td>145872.256</td>\n",
       "      <td>144985.057</td>\n",
       "      <td>143479.274</td>\n",
       "      <td>146404.903</td>\n",
       "      <td>147531.561</td>\n",
       "      <td>138053.150</td>\n",
       "      <td>130148.653</td>\n",
       "      <td>17098242</td>\n",
       "      <td>8.5337</td>\n",
       "      <td>0.9998</td>\n",
       "      <td>0.0185</td>\n",
       "      <td>9</td>\n",
       "    </tr>\n",
       "    <tr>\n",
       "      <th>Turkey</th>\n",
       "      <td>9437.372</td>\n",
       "      <td>5.6</td>\n",
       "      <td>TR</td>\n",
       "      <td>85042.738</td>\n",
       "      <td>84339.067</td>\n",
       "      <td>97139.570</td>\n",
       "      <td>89157.785</td>\n",
       "      <td>83429.615</td>\n",
       "      <td>78529.409</td>\n",
       "      <td>72326.988</td>\n",
       "      <td>63240.194</td>\n",
       "      <td>53921.760</td>\n",
       "      <td>43975.971</td>\n",
       "      <td>34876.303</td>\n",
       "      <td>783562</td>\n",
       "      <td>108.5335</td>\n",
       "      <td>1.0083</td>\n",
       "      <td>0.0108</td>\n",
       "      <td>17</td>\n",
       "    </tr>\n",
       "    <tr>\n",
       "      <th>Hungary</th>\n",
       "      <td>12239.894</td>\n",
       "      <td>4.9</td>\n",
       "      <td>HU</td>\n",
       "      <td>9634.164</td>\n",
       "      <td>9660.351</td>\n",
       "      <td>8470.230</td>\n",
       "      <td>9338.446</td>\n",
       "      <td>9684.679</td>\n",
       "      <td>9777.923</td>\n",
       "      <td>9927.370</td>\n",
       "      <td>10220.507</td>\n",
       "      <td>10377.137</td>\n",
       "      <td>10754.286</td>\n",
       "      <td>10366.105</td>\n",
       "      <td>93028</td>\n",
       "      <td>103.5620</td>\n",
       "      <td>0.9973</td>\n",
       "      <td>0.0012</td>\n",
       "      <td>95</td>\n",
       "    </tr>\n",
       "    <tr>\n",
       "      <th>Poland</th>\n",
       "      <td>12495.334</td>\n",
       "      <td>5.8</td>\n",
       "      <td>PL</td>\n",
       "      <td>37797.005</td>\n",
       "      <td>37846.611</td>\n",
       "      <td>33294.567</td>\n",
       "      <td>36944.563</td>\n",
       "      <td>37887.768</td>\n",
       "      <td>38034.079</td>\n",
       "      <td>38329.781</td>\n",
       "      <td>38556.693</td>\n",
       "      <td>37960.193</td>\n",
       "      <td>35539.720</td>\n",
       "      <td>32639.258</td>\n",
       "      <td>312679</td>\n",
       "      <td>120.8812</td>\n",
       "      <td>0.9987</td>\n",
       "      <td>0.0048</td>\n",
       "      <td>39</td>\n",
       "    </tr>\n",
       "    <tr>\n",
       "      <th>Estonia</th>\n",
       "      <td>17288.083</td>\n",
       "      <td>5.6</td>\n",
       "      <td>EE</td>\n",
       "      <td>1325.185</td>\n",
       "      <td>1326.535</td>\n",
       "      <td>1158.408</td>\n",
       "      <td>1279.962</td>\n",
       "      <td>1325.648</td>\n",
       "      <td>1315.325</td>\n",
       "      <td>1332.101</td>\n",
       "      <td>1399.112</td>\n",
       "      <td>1565.246</td>\n",
       "      <td>1474.439</td>\n",
       "      <td>1360.202</td>\n",
       "      <td>45227</td>\n",
       "      <td>29.3007</td>\n",
       "      <td>0.9990</td>\n",
       "      <td>0.0002</td>\n",
       "      <td>156</td>\n",
       "    </tr>\n",
       "  </tbody>\n",
       "</table>\n",
       "</div>"
      ],
      "text/plain": [
       "         GDP per capita  Life satisfaction cca2     pop2021     pop2020  \\\n",
       "Russia         9054.914                6.0   RU  145912.025  145934.462   \n",
       "Turkey         9437.372                5.6   TR   85042.738   84339.067   \n",
       "Hungary       12239.894                4.9   HU    9634.164    9660.351   \n",
       "Poland        12495.334                5.8   PL   37797.005   37846.611   \n",
       "Estonia       17288.083                5.6   EE    1325.185    1326.535   \n",
       "\n",
       "            pop2050     pop2030     pop2019     pop2015     pop2010  \\\n",
       "Russia   135824.481  143347.515  145872.256  144985.057  143479.274   \n",
       "Turkey    97139.570   89157.785   83429.615   78529.409   72326.988   \n",
       "Hungary    8470.230    9338.446    9684.679    9777.923    9927.370   \n",
       "Poland    33294.567   36944.563   37887.768   38034.079   38329.781   \n",
       "Estonia    1158.408    1279.962    1325.648    1315.325    1332.101   \n",
       "\n",
       "            pop2000     pop1990     pop1980     pop1970      area   Density  \\\n",
       "Russia   146404.903  147531.561  138053.150  130148.653  17098242    8.5337   \n",
       "Turkey    63240.194   53921.760   43975.971   34876.303    783562  108.5335   \n",
       "Hungary   10220.507   10377.137   10754.286   10366.105     93028  103.5620   \n",
       "Poland    38556.693   37960.193   35539.720   32639.258    312679  120.8812   \n",
       "Estonia    1399.112    1565.246    1474.439    1360.202     45227   29.3007   \n",
       "\n",
       "         GrowthRate  WorldPercentage  rank  \n",
       "Russia       0.9998           0.0185     9  \n",
       "Turkey       1.0083           0.0108    17  \n",
       "Hungary      0.9973           0.0012    95  \n",
       "Poland       0.9987           0.0048    39  \n",
       "Estonia      0.9990           0.0002   156  "
      ]
     },
     "execution_count": 11,
     "metadata": {},
     "output_type": "execute_result"
    }
   ],
   "source": [
    "# load data for population density and join it with GDP / Life satisfaction\n",
    "# downloaded \"csvData.csv\" into previously created 'datasets/lifesat/' directory\n",
    "#     from URL:    'https://www.kaggle.com/varpit94/world-population-density'\n",
    "#\n",
    "wpd = pd.read_csv(datapath + \"csvData.csv\", thousands=',') # wpd -- world population density\n",
    "\n",
    "# merging\n",
    "wpd.set_index(\"name\", inplace=True)  # inplace=True modifies existing DataFrame (wpd) instead of creating a new DataFrame\n",
    "lifesat_with_wpd = pd.merge(left=country_stats, right=wpd, left_index=True, right_index=True)\n",
    "lifesat_with_wpd.head()"
   ]
  },
  {
   "cell_type": "code",
   "execution_count": 23,
   "metadata": {},
   "outputs": [
    {
     "data": {
      "image/png": "[encoded data removed]",
      "text/plain": [
       "<Figure size 432x288 with 1 Axes>"
      ]
     },
     "metadata": {
      "needs_background": "light"
     },
     "output_type": "display_data"
    },
    {
     "data": {
      "text/plain": [
       "Life satisfaction    1.000000\n",
       "GDP per capita       0.862787\n",
       "GrowthRate           0.709263\n",
       "area                 0.108016\n",
       "rank                 0.105368\n",
       "Density              0.065156\n",
       "pop2050              0.056394\n",
       "pop2030              0.031096\n",
       "pop2021              0.018247\n",
       "WorldPercentage      0.017852\n",
       "pop2020              0.016987\n",
       "pop2019              0.015822\n",
       "pop2015              0.011824\n",
       "pop2010              0.006901\n",
       "pop2000             -0.006697\n",
       "pop1970             -0.015613\n",
       "pop1990             -0.020272\n",
       "pop1980             -0.022131\n",
       "Name: Life satisfaction, dtype: float64"
      ]
     },
     "execution_count": 23,
     "metadata": {},
     "output_type": "execute_result"
    }
   ],
   "source": [
    "# Correlate population density and life satisfaction\n",
    "lifesat_with_wpd.plot(kind='scatter', x=\"Density\", y='Life satisfaction')\n",
    "plt.show()\n",
    "\n",
    "#\n",
    "cormat = lifesat_with_wpd.corr()  # cormat -- correlation matrix\n",
    "cormat[\"Life satisfaction\"].sort_values(ascending=False)"
   ]
  },
  {
   "cell_type": "markdown",
   "metadata": {},
   "source": [
    "_\"How well do population density and life satisfaction correlate?\"_\n",
    "    \n",
    "    Given the value of correlation between the two factors is 0.065 (6.5%), I would would say not well. Better factors for considering strong correlations would clearly be rank, area, and growth rate with the grow rath dominating the others in magnitude.\n",
    "    "
   ]
  },
  {
   "cell_type": "code",
   "execution_count": 26,
   "metadata": {},
   "outputs": [
    {
     "data": {
      "text/plain": [
       "LinearRegression()"
      ]
     },
     "execution_count": 26,
     "metadata": {},
     "output_type": "execute_result"
    }
   ],
   "source": [
    "# Train a model to predict life satisfaction, based on population density\n",
    "# data loading     -- previously completed with merge\n",
    "# data preparation -- partially completed with merge\n",
    "x_density = np.c_[lifesat_with_wpd[\"Density\"]]\n",
    "y = np.c_[lifesat_with_wpd[\"Life satisfaction\"]]\n",
    "\n",
    "# visualization\n",
    "#lifesat_with_wpd.plot(kind='scatter', x=\"Density\", y='Life satisfaction')\n",
    "#plt.show()\n",
    "\n",
    "# model selection\n",
    "model_density = sklearn.linear_model.LinearRegression()\n",
    "\n",
    "# model training\n",
    "model_density.fit(x_density, y)"
   ]
  },
  {
   "cell_type": "code",
   "execution_count": 38,
   "metadata": {},
   "outputs": [
    {
     "name": "stdout",
     "output_type": "stream",
     "text": [
      "MSE based on GDP =  0.1806533333945277\n"
     ]
    },
    {
     "data": {
      "image/png": "[encoded data removed]",
      "text/plain": [
       "<Figure size 432x288 with 1 Axes>"
      ]
     },
     "metadata": {
      "needs_background": "light"
     },
     "output_type": "display_data"
    },
    {
     "name": "stdout",
     "output_type": "stream",
     "text": [
      "MSE based on pop. density =  0.7029290424487645\n"
     ]
    },
    {
     "data": {
      "image/png": "[encoded data removed]",
      "text/plain": [
       "<Figure size 432x288 with 1 Axes>"
      ]
     },
     "metadata": {
      "needs_background": "light"
     },
     "output_type": "display_data"
    }
   ],
   "source": [
    "# Measure and compare the accuracy of predictions based on population density to those based on GDP\n",
    "x_gdp = np.c_[lifesat_with_wpd[\"GDP per capita\"]]\n",
    "x_density = np.c_[lifesat_with_wpd[\"Density\"]]\n",
    "model_gdp = model;  # from above -- model trained with GDP data\n",
    "model_density = sklearn.linear_model.LinearRegression()\n",
    "model_density.fit(x_density, y)\n",
    "\n",
    "# testing each GDP value to predict life sat. score based on model trained by the same GDP values\n",
    "predicted_gdp = model_gdp.predict(x_gdp)\n",
    "\n",
    "# verification of array shapes -- debugging\n",
    "#print(y.shape)\n",
    "#print(x_gdp.shape)\n",
    "#print(predicted_gdp.shape)\n",
    "\n",
    "# numpy overloaded '-' and '**' operators are blessings <3\n",
    "mse_gdp = ((y - predicted_gdp)**2).sum() / y.size\n",
    "print(\"MSE based on GDP = \", mse_gdp)\n",
    "\n",
    "lifesat_with_wpd.plot(kind='scatter', x=\"GDP per capita\", y='Life satisfaction')\n",
    "plt.plot(x_gdp, model_gdp.intercept_ + model_gdp.coef_*x_gdp)\n",
    "plt.show()\n",
    "\n",
    "#\n",
    "# calculating total error from MSE for model trained on population density\n",
    "#\n",
    "predicted_density = model_density.predict(x_density)\n",
    "\n",
    "mse_density = ((y - predicted_density)**2).sum() / y.size\n",
    "print(\"MSE based on pop. density = \", mse_density)\n",
    "\n",
    "lifesat_with_wpd.plot(kind='scatter', x=\"Density\", y='Life satisfaction')\n",
    "plt.plot(x_density, model_density.intercept_ + model_density.coef_*x_density)\n",
    "plt.show()"
   ]
  },
  {
   "cell_type": "markdown",
   "metadata": {},
   "source": [
    "_\"How accurate are predictions based on population density to those based on GDP?\"_\n",
    "    \n",
    "    MSE based on population density (0.7) is almost four times greater than that based on GDP (0.18), another indicator that population density is an unreliable predictor of life satisfaction.\n",
    "    "
   ]
  },
  {
   "cell_type": "code",
   "execution_count": 40,
   "metadata": {},
   "outputs": [
    {
     "data": {
      "text/plain": [
       "131.4003"
      ]
     },
     "execution_count": 40,
     "metadata": {},
     "output_type": "execute_result"
    }
   ],
   "source": [
    "# Predict the life satisfaction for Cyprus, based on population density\n",
    "wpd.at[\"Cyprus\", \"Density\"]  # wpd -- world population density pandas DataFrame from above"
   ]
  },
  {
   "cell_type": "markdown",
   "metadata": {},
   "source": [
    "_\"How is this result different from the result obtained based on GDP?\"_\n",
    "    \n",
    "    <type your answer here>\n",
    "    "
   ]
  },
  {
   "cell_type": "markdown",
   "metadata": {},
   "source": [
    "**Problem 2**"
   ]
  },
  {
   "cell_type": "code",
   "execution_count": 25,
   "metadata": {},
   "outputs": [],
   "source": [
    "# Train a model to predict life satisfaction, based on both GDP and population density\n"
   ]
  },
  {
   "cell_type": "code",
   "execution_count": 28,
   "metadata": {},
   "outputs": [],
   "source": [
    "# Measure and compare the accuracy of predictions based on both attributes to those obtained soley based on GDP or population density\n"
   ]
  },
  {
   "cell_type": "markdown",
   "metadata": {},
   "source": [
    "_\"How accurate are predictions based on both attributes to those obtained soley based on GDP or population density?\"_\n",
    "    \n",
    "    <type your answer here>\n",
    "    "
   ]
  },
  {
   "cell_type": "code",
   "execution_count": 27,
   "metadata": {},
   "outputs": [],
   "source": [
    "# Predict the life satisfaction for Cyprus, based on both GDP and population density\n"
   ]
  },
  {
   "cell_type": "markdown",
   "metadata": {},
   "source": [
    "_\"How is this result different from the result obtained soley based on GDP or population density?\"_\n",
    "    \n",
    "    <type your answer here>\n",
    "    "
   ]
  },
  {
   "cell_type": "markdown",
   "metadata": {},
   "source": [
    "**Extra Credit**"
   ]
  },
  {
   "cell_type": "code",
   "execution_count": 25,
   "metadata": {},
   "outputs": [],
   "source": [
    "# your code here; feel free to add additional cells as needed\n"
   ]
  },
  {
   "cell_type": "markdown",
   "metadata": {},
   "source": [
    "_\"Explain your approach, results and conclusions.\"_\n",
    "    \n",
    "    <type your answer here>\n",
    "    "
   ]
  },
  {
   "cell_type": "code",
   "execution_count": null,
   "metadata": {},
   "outputs": [],
   "source": []
  }
 ],
 "metadata": {
  "kernelspec": {
   "display_name": "Python 3 (ipykernel)",
   "language": "python",
   "name": "python3"
  },
  "language_info": {
   "codemirror_mode": {
    "name": "ipython",
    "version": 3
   },
   "file_extension": ".py",
   "mimetype": "text/x-python",
   "name": "python",
   "nbconvert_exporter": "python",
   "pygments_lexer": "ipython3",
   "version": "3.10.2"
  },
  "metadata": {
   "interpreter": {
    "hash": "22b0ec00cd9e253c751e6d2619fc0bb2d18ed12980de3246690d5be49479dd65"
   }
  },
  "nav_menu": {},
  "toc": {
   "navigate_menu": true,
   "number_sections": true,
   "sideBar": true,
   "threshold": 6,
   "toc_cell": false,
   "toc_section_display": "block",
   "toc_window_display": true
  },
  "toc_position": {
   "height": "616px",
   "left": "0px",
   "right": "20px",
   "top": "106px",
   "width": "213px"
  }
 },
 "nbformat": 4,
 "nbformat_minor": 4
}
